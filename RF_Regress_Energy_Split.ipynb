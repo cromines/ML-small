{
 "cells": [
  {
   "cell_type": "code",
   "execution_count": 70,
   "metadata": {
    "collapsed": true,
    "scrolled": false
   },
   "outputs": [],
   "source": [
    "import matplotlib.pyplot as plt\n",
    "import numpy as np\n",
    "import pandas as pd\n",
    "\n",
    "def read_and_clean(fileName):\n",
    "    data = pd.read_csv(fileName,sep='\\t',header=None, nrows = 10000)\n",
    "    data = data.drop(7, axis=1)\n",
    "    data = data.replace({'i': 'j'}, regex=True)\n",
    "    data = data.replace({'\\+-': '-'}, regex=True)\n",
    "    for i in [6,9,10]:\n",
    "        data[i] = data[i].apply(lambda x: np.complex(x))\n",
    "        data[\"real\"+str(i)]=data[i].apply(lambda x: np.real(x))\n",
    "        data[\"imag\"+str(i)]=data[i].apply(lambda x: np.imag(x))\n",
    "    data = data.dropna()\n",
    "    return(data)"
   ]
  },
  {
   "cell_type": "code",
   "execution_count": 71,
   "metadata": {},
   "outputs": [],
   "source": [
    "from sklearn.model_selection import train_test_split\n",
    "from sklearn import preprocessing\n",
    "from sklearn.ensemble import RandomForestRegressor\n",
    "from sklearn.pipeline import make_pipeline\n",
    "from sklearn.model_selection import GridSearchCV\n",
    "from sklearn.metrics import mean_squared_error, r2_score\n",
    "from sklearn.externals import joblib \n",
    "\n",
    "def regress_and_pred(timePerc,fieldData):\n",
    "    data = read_and_clean(fieldData)\n",
    "\n",
    "    train = data[data[0] <= data[0].max(axis=0)*timePerc]\n",
    "    test = data[data[0] <= data[0].max(axis=0)*timePerc]\n",
    "    trainIn = train.drop([3,4,5,6,8,9,10,'real6','imag6'], axis=1)\n",
    "    trainTa = np.ravel(train[[5]])\n",
    "\n",
    "\n",
    "    testIn = test.drop([3,4,5,6,8,9,10,'real6','imag6'], axis=1)\n",
    "    testTa = np.ravel(test[[5]])\n",
    "\n",
    "\n",
    "    pipeline = make_pipeline(preprocessing.StandardScaler(), \n",
    "                             RandomForestRegressor(n_estimators=1000))\n",
    "\n",
    "    hyperparameters = { 'randomforestregressor__max_features' : ['auto', 'sqrt', 'log2'],\n",
    "                      'randomforestregressor__max_depth': [None, 5, 3, 1]}\n",
    "\n",
    "    clf = GridSearchCV(pipeline, hyperparameters, cv=10)\n",
    "\n",
    "    clf.fit(trainIn, trainTa)\n",
    "\n",
    "\n",
    "    pred = clf.predict(testIn)\n",
    "    R2 = r2_score(testTa, pred)\n",
    "    return(pred, R2, testTa)\n",
    "\n",
    "\n"
   ]
  },
  {
   "cell_type": "code",
   "execution_count": 72,
   "metadata": {},
   "outputs": [],
   "source": [
    "def time_est(startTimePerc, fieldData, eps, minR2):\n",
    "    trial = regress_and_pred(timePerc, fieldData)\n",
    "    if trial[2] > minR2:\n",
    "        time_est(startTimePerc - eps, fieldData, eps, minR2)\n",
    "    else:\n",
    "        return(trial)"
   ]
  },
  {
   "cell_type": "code",
   "execution_count": null,
   "metadata": {},
   "outputs": [],
   "source": [
    "final = regress_and_pred(20,'/home/cromines/Field_Proj/Field_Data2/print_fields_60.dat')\n",
    "\n",
    "np.set_printoptions(threshold=np.nan)\n",
    "print(final[1])\n",
    "print(final[0])\n",
    "print(final[2])"
   ]
  },
  {
   "cell_type": "code",
   "execution_count": 69,
   "metadata": {},
   "outputs": [
    {
     "name": "stdout",
     "output_type": "stream",
     "text": [
      "<class 'numpy.ndarray'>\n"
     ]
    },
    {
     "data": {
      "image/png": "[encoded data removed]",
      "text/plain": [
       "<matplotlib.figure.Figure at 0x7f6ad56acdd8>"
      ]
     },
     "metadata": {},
     "output_type": "display_data"
    }
   ],
   "source": [
    "from mpl_toolkits.mplot3d import Axes3D\n",
    "from matplotlib import pyplot\n",
    "\n",
    "p = read_and_clean('/home/cromines/Field_Proj/Field_Data2/print_fields_60.dat')\n",
    "\n",
    "print(type(final[2]))\n",
    "# ax.scatter(p[0],p[1],p[5])\n",
    "# ax.scatter(test[0],test[1],y2)\n",
    "plt.scatter(p[0],final[0])\n",
    "plt.scatter(p[0],final[2])\n",
    "plt.show()\n"
   ]
  },
  {
   "cell_type": "code",
   "execution_count": null,
   "metadata": {
    "collapsed": true
   },
   "outputs": [],
   "source": []
  }
 ],
 "metadata": {
  "anaconda-cloud": {},
  "kernelspec": {
   "display_name": "Python [default]",
   "language": "python",
   "name": "python3"
  },
  "language_info": {
   "codemirror_mode": {
    "name": "ipython",
    "version": 3
   },
   "file_extension": ".py",
   "mimetype": "text/x-python",
   "name": "python",
   "nbconvert_exporter": "python",
   "pygments_lexer": "ipython3",
   "version": "3.5.3"
  }
 },
 "nbformat": 4,
 "nbformat_minor": 2
}
